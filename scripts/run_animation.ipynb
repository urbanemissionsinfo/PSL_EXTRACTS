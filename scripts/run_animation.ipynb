{
 "cells": [
  {
   "cell_type": "code",
   "execution_count": 4,
   "id": "78564c38-29c3-4bbe-803a-aed250ab40d8",
   "metadata": {},
   "outputs": [],
   "source": [
    "import pandas as pd\n",
    "import subprocess"
   ]
  },
  {
   "cell_type": "code",
   "execution_count": 3,
   "id": "737b7f21-1e6d-4c4d-8e6b-74a40ed5fff2",
   "metadata": {},
   "outputs": [
    {
     "data": {
      "text/html": [
       "<div>\n",
       "<style scoped>\n",
       "    .dataframe tbody tr th:only-of-type {\n",
       "        vertical-align: middle;\n",
       "    }\n",
       "\n",
       "    .dataframe tbody tr th {\n",
       "        vertical-align: top;\n",
       "    }\n",
       "\n",
       "    .dataframe thead th {\n",
       "        text-align: right;\n",
       "    }\n",
       "</style>\n",
       "<table border=\"1\" class=\"dataframe\">\n",
       "  <thead>\n",
       "    <tr style=\"text-align: right;\">\n",
       "      <th></th>\n",
       "      <th>filename</th>\n",
       "      <th>citystatename</th>\n",
       "      <th>cityname</th>\n",
       "      <th>statename</th>\n",
       "      <th>airshedsize</th>\n",
       "    </tr>\n",
       "  </thead>\n",
       "  <tbody>\n",
       "    <tr>\n",
       "      <th>0</th>\n",
       "      <td>anantapur</td>\n",
       "      <td>Anantapur, AP</td>\n",
       "      <td>Anantapur</td>\n",
       "      <td>AP</td>\n",
       "      <td>30 x 30</td>\n",
       "    </tr>\n",
       "    <tr>\n",
       "      <th>1</th>\n",
       "      <td>chitoor</td>\n",
       "      <td>Chitoor, AP</td>\n",
       "      <td>Chitoor</td>\n",
       "      <td>AP</td>\n",
       "      <td>30 x 30</td>\n",
       "    </tr>\n",
       "    <tr>\n",
       "      <th>2</th>\n",
       "      <td>eluru</td>\n",
       "      <td>Eluru, AP</td>\n",
       "      <td>Eluru</td>\n",
       "      <td>AP</td>\n",
       "      <td>30 x 30</td>\n",
       "    </tr>\n",
       "    <tr>\n",
       "      <th>3</th>\n",
       "      <td>kadapa</td>\n",
       "      <td>Kadapa, AP</td>\n",
       "      <td>Kadapa</td>\n",
       "      <td>AP</td>\n",
       "      <td>30 x 30</td>\n",
       "    </tr>\n",
       "    <tr>\n",
       "      <th>4</th>\n",
       "      <td>kurnool</td>\n",
       "      <td>Kurnool, AP</td>\n",
       "      <td>Kurnool</td>\n",
       "      <td>AP</td>\n",
       "      <td>30 x 30</td>\n",
       "    </tr>\n",
       "    <tr>\n",
       "      <th>...</th>\n",
       "      <td>...</td>\n",
       "      <td>...</td>\n",
       "      <td>...</td>\n",
       "      <td>...</td>\n",
       "      <td>...</td>\n",
       "    </tr>\n",
       "    <tr>\n",
       "      <th>99</th>\n",
       "      <td>kashipur</td>\n",
       "      <td>Kashipur, UK</td>\n",
       "      <td>Kashipur</td>\n",
       "      <td>UK</td>\n",
       "      <td>30 x 30</td>\n",
       "    </tr>\n",
       "    <tr>\n",
       "      <th>100</th>\n",
       "      <td>rishikesh</td>\n",
       "      <td>Rishikesh, UK</td>\n",
       "      <td>Rishikesh</td>\n",
       "      <td>UK</td>\n",
       "      <td>30 x 30</td>\n",
       "    </tr>\n",
       "    <tr>\n",
       "      <th>101</th>\n",
       "      <td>asansol</td>\n",
       "      <td>Asansol, WB</td>\n",
       "      <td>Asansol</td>\n",
       "      <td>WB</td>\n",
       "      <td>60 x 40</td>\n",
       "    </tr>\n",
       "    <tr>\n",
       "      <th>102</th>\n",
       "      <td>haldia</td>\n",
       "      <td>Haldia, WB</td>\n",
       "      <td>Haldia</td>\n",
       "      <td>WB</td>\n",
       "      <td>40 x 40</td>\n",
       "    </tr>\n",
       "    <tr>\n",
       "      <th>103</th>\n",
       "      <td>kolkata</td>\n",
       "      <td>Kolkata, WB</td>\n",
       "      <td>Kolkata</td>\n",
       "      <td>WB</td>\n",
       "      <td>60 x 60</td>\n",
       "    </tr>\n",
       "  </tbody>\n",
       "</table>\n",
       "<p>104 rows × 5 columns</p>\n",
       "</div>"
      ],
      "text/plain": [
       "      filename  citystatename   cityname statename airshedsize\n",
       "0    anantapur  Anantapur, AP  Anantapur        AP     30 x 30\n",
       "1      chitoor    Chitoor, AP    Chitoor        AP     30 x 30\n",
       "2        eluru      Eluru, AP      Eluru        AP     30 x 30\n",
       "3       kadapa     Kadapa, AP     Kadapa        AP     30 x 30\n",
       "4      kurnool    Kurnool, AP    Kurnool        AP     30 x 30\n",
       "..         ...            ...        ...       ...         ...\n",
       "99    kashipur   Kashipur, UK   Kashipur        UK     30 x 30\n",
       "100  rishikesh  Rishikesh, UK  Rishikesh        UK     30 x 30\n",
       "101    asansol    Asansol, WB    Asansol        WB     60 x 40\n",
       "102     haldia     Haldia, WB     Haldia        WB     40 x 40\n",
       "103    kolkata    Kolkata, WB    Kolkata        WB     60 x 60\n",
       "\n",
       "[104 rows x 5 columns]"
      ]
     },
     "execution_count": 3,
     "metadata": {},
     "output_type": "execute_result"
    }
   ],
   "source": [
    "cities = pd.read_csv(r'C:\\Users\\dskcy\\UEInfo\\PSL_EXTRACTS\\assets\\city_state_file_names.csv')\n",
    "cities"
   ]
  },
  {
   "cell_type": "code",
   "execution_count": 6,
   "id": "5496d53d-aa88-46eb-ba86-8994de7bde15",
   "metadata": {},
   "outputs": [
    {
     "name": "stdout",
     "output_type": "stream",
     "text": [
      "Producing animation for:  anantapur\n",
      "Producing animation for:  chitoor\n",
      "Producing animation for:  eluru\n",
      "Producing animation for:  kadapa\n",
      "Producing animation for:  kurnool\n",
      "Producing animation for:  nellore\n",
      "Producing animation for:  ongole\n",
      "Producing animation for:  rajahmundry\n",
      "Producing animation for:  srikakulam\n",
      "Producing animation for:  vijayawada\n",
      "Producing animation for:  vishakhapatnam\n"
     ]
    },
    {
     "name": "stderr",
     "output_type": "stream",
     "text": [
      "\n",
      "KeyboardInterrupt\n",
      "\n"
     ]
    }
   ],
   "source": [
    "for city in cities['filename']:\n",
    "    print(\"Producing animation for: \", city)\n",
    "    subprocess.run([\"python\", \"animation_timeseries.py\", \"era5\", \"temp2m\", city])"
   ]
  },
  {
   "cell_type": "code",
   "execution_count": 7,
   "id": "0d565dd1-a858-47d8-81be-498995461994",
   "metadata": {},
   "outputs": [
    {
     "data": {
      "text/plain": [
       "CompletedProcess(args=['python', 'animation_timeseries.py', 'era5', 'temp2m', 'anantapur'], returncode=1)"
      ]
     },
     "execution_count": 7,
     "metadata": {},
     "output_type": "execute_result"
    }
   ],
   "source": [
    "subprocess.run([\"python\", \"animation_timeseries.py\", \"era5\", \"temp2m\", \"anantapur\"])"
   ]
  },
  {
   "cell_type": "code",
   "execution_count": null,
   "id": "e9022a12-dc00-404e-8a5d-e4b0b00b08fc",
   "metadata": {},
   "outputs": [],
   "source": []
  }
 ],
 "metadata": {
  "kernelspec": {
   "display_name": "Python 3 (ipykernel)",
   "language": "python",
   "name": "python3"
  },
  "language_info": {
   "codemirror_mode": {
    "name": "ipython",
    "version": 3
   },
   "file_extension": ".py",
   "mimetype": "text/x-python",
   "name": "python",
   "nbconvert_exporter": "python",
   "pygments_lexer": "ipython3",
   "version": "3.11.7"
  }
 },
 "nbformat": 4,
 "nbformat_minor": 5
}
